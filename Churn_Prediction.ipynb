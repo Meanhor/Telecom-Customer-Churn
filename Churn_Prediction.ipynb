{
 "cells": [
  {
   "cell_type": "markdown",
   "id": "06bac214",
   "metadata": {},
   "source": [
    "## **Library**"
   ]
  },
  {
   "cell_type": "code",
   "execution_count": 1,
   "id": "23eb20bd",
   "metadata": {},
   "outputs": [],
   "source": [
    "import numpy as np\n",
    "import pandas as pd\n",
    "import matplotlib.pyplot as plt\n",
    "from sklearn.model_selection import train_test_split, cross_val_score\n",
    "from sklearn.preprocessing import OneHotEncoder, StandardScaler\n",
    "from sklearn.compose import ColumnTransformer\n",
    "from sklearn.pipeline import Pipeline\n",
    "from sklearn.metrics import classification_report\n",
    "from imblearn.over_sampling import RandomOverSampler\n",
    "\n",
    "\n",
    "# Models\n",
    "from sklearn.linear_model import LogisticRegression\n",
    "from sklearn.ensemble import RandomForestClassifier, GradientBoostingClassifier\n",
    "from sklearn.neighbors import KNeighborsClassifier\n",
    "from sklearn.svm import SVC\n",
    "from sklearn.neural_network import MLPClassifier\n",
    "from xgboost import XGBClassifier\n",
    "from lightgbm import LGBMClassifier"
   ]
  },
  {
   "cell_type": "markdown",
   "id": "e27aa320",
   "metadata": {},
   "source": [
    "## **Loading and Cleansing data**"
   ]
  },
  {
   "cell_type": "markdown",
   "id": "6c7652b4",
   "metadata": {},
   "source": [
    "#### Loading Data"
   ]
  },
  {
   "cell_type": "code",
   "execution_count": 2,
   "id": "43ab9416",
   "metadata": {},
   "outputs": [],
   "source": [
    "# Load data\n",
    "df = pd.read_csv('https://github.com/YBIFoundation/Dataset/raw/main/TelecomCustomerChurn.csv')"
   ]
  },
  {
   "cell_type": "markdown",
   "id": "29f76313",
   "metadata": {},
   "source": [
    "#### Explore Data"
   ]
  },
  {
   "cell_type": "code",
   "execution_count": 3,
   "id": "2dcdd2ff",
   "metadata": {},
   "outputs": [
    {
     "data": {
      "text/html": [
       "<div>\n",
       "<style scoped>\n",
       "    .dataframe tbody tr th:only-of-type {\n",
       "        vertical-align: middle;\n",
       "    }\n",
       "\n",
       "    .dataframe tbody tr th {\n",
       "        vertical-align: top;\n",
       "    }\n",
       "\n",
       "    .dataframe thead th {\n",
       "        text-align: right;\n",
       "    }\n",
       "</style>\n",
       "<table border=\"1\" class=\"dataframe\">\n",
       "  <thead>\n",
       "    <tr style=\"text-align: right;\">\n",
       "      <th></th>\n",
       "      <th>customerID</th>\n",
       "      <th>Gender</th>\n",
       "      <th>SeniorCitizen</th>\n",
       "      <th>Partner</th>\n",
       "      <th>Dependents</th>\n",
       "      <th>Tenure</th>\n",
       "      <th>PhoneService</th>\n",
       "      <th>MultipleLines</th>\n",
       "      <th>InternetService</th>\n",
       "      <th>OnlineSecurity</th>\n",
       "      <th>...</th>\n",
       "      <th>DeviceProtection</th>\n",
       "      <th>TechSupport</th>\n",
       "      <th>StreamingTV</th>\n",
       "      <th>StreamingMovies</th>\n",
       "      <th>Contract</th>\n",
       "      <th>PaperlessBilling</th>\n",
       "      <th>PaymentMethod</th>\n",
       "      <th>MonthlyCharges</th>\n",
       "      <th>TotalCharges</th>\n",
       "      <th>Churn</th>\n",
       "    </tr>\n",
       "  </thead>\n",
       "  <tbody>\n",
       "    <tr>\n",
       "      <th>0</th>\n",
       "      <td>7590-VHVEG</td>\n",
       "      <td>Female</td>\n",
       "      <td>0</td>\n",
       "      <td>Yes</td>\n",
       "      <td>No</td>\n",
       "      <td>1</td>\n",
       "      <td>No</td>\n",
       "      <td>No</td>\n",
       "      <td>DSL</td>\n",
       "      <td>No</td>\n",
       "      <td>...</td>\n",
       "      <td>No</td>\n",
       "      <td>No</td>\n",
       "      <td>No</td>\n",
       "      <td>No</td>\n",
       "      <td>Monthly</td>\n",
       "      <td>Yes</td>\n",
       "      <td>Manual</td>\n",
       "      <td>29.85</td>\n",
       "      <td>29.85</td>\n",
       "      <td>No</td>\n",
       "    </tr>\n",
       "    <tr>\n",
       "      <th>1</th>\n",
       "      <td>5575-GNVDE</td>\n",
       "      <td>Male</td>\n",
       "      <td>0</td>\n",
       "      <td>No</td>\n",
       "      <td>No</td>\n",
       "      <td>34</td>\n",
       "      <td>Yes</td>\n",
       "      <td>No</td>\n",
       "      <td>DSL</td>\n",
       "      <td>Yes</td>\n",
       "      <td>...</td>\n",
       "      <td>Yes</td>\n",
       "      <td>No</td>\n",
       "      <td>No</td>\n",
       "      <td>No</td>\n",
       "      <td>One year</td>\n",
       "      <td>No</td>\n",
       "      <td>Manual</td>\n",
       "      <td>56.95</td>\n",
       "      <td>1889.5</td>\n",
       "      <td>No</td>\n",
       "    </tr>\n",
       "    <tr>\n",
       "      <th>2</th>\n",
       "      <td>3668-QPYBK</td>\n",
       "      <td>Male</td>\n",
       "      <td>0</td>\n",
       "      <td>No</td>\n",
       "      <td>No</td>\n",
       "      <td>2</td>\n",
       "      <td>Yes</td>\n",
       "      <td>No</td>\n",
       "      <td>DSL</td>\n",
       "      <td>Yes</td>\n",
       "      <td>...</td>\n",
       "      <td>No</td>\n",
       "      <td>No</td>\n",
       "      <td>No</td>\n",
       "      <td>No</td>\n",
       "      <td>Monthly</td>\n",
       "      <td>Yes</td>\n",
       "      <td>Manual</td>\n",
       "      <td>53.85</td>\n",
       "      <td>108.15</td>\n",
       "      <td>Yes</td>\n",
       "    </tr>\n",
       "    <tr>\n",
       "      <th>3</th>\n",
       "      <td>7795-CFOCW</td>\n",
       "      <td>Male</td>\n",
       "      <td>0</td>\n",
       "      <td>No</td>\n",
       "      <td>No</td>\n",
       "      <td>45</td>\n",
       "      <td>No</td>\n",
       "      <td>No</td>\n",
       "      <td>DSL</td>\n",
       "      <td>Yes</td>\n",
       "      <td>...</td>\n",
       "      <td>Yes</td>\n",
       "      <td>Yes</td>\n",
       "      <td>No</td>\n",
       "      <td>No</td>\n",
       "      <td>One year</td>\n",
       "      <td>No</td>\n",
       "      <td>Bank transfer (automatic)</td>\n",
       "      <td>42.30</td>\n",
       "      <td>1840.75</td>\n",
       "      <td>No</td>\n",
       "    </tr>\n",
       "    <tr>\n",
       "      <th>4</th>\n",
       "      <td>9237-HQITU</td>\n",
       "      <td>Female</td>\n",
       "      <td>0</td>\n",
       "      <td>No</td>\n",
       "      <td>No</td>\n",
       "      <td>2</td>\n",
       "      <td>Yes</td>\n",
       "      <td>No</td>\n",
       "      <td>Fiber optic</td>\n",
       "      <td>No</td>\n",
       "      <td>...</td>\n",
       "      <td>No</td>\n",
       "      <td>No</td>\n",
       "      <td>No</td>\n",
       "      <td>No</td>\n",
       "      <td>Monthly</td>\n",
       "      <td>Yes</td>\n",
       "      <td>Manual</td>\n",
       "      <td>70.70</td>\n",
       "      <td>151.65</td>\n",
       "      <td>Yes</td>\n",
       "    </tr>\n",
       "  </tbody>\n",
       "</table>\n",
       "<p>5 rows × 21 columns</p>\n",
       "</div>"
      ],
      "text/plain": [
       "   customerID  Gender  SeniorCitizen Partner Dependents  Tenure PhoneService  \\\n",
       "0  7590-VHVEG  Female              0     Yes         No       1           No   \n",
       "1  5575-GNVDE    Male              0      No         No      34          Yes   \n",
       "2  3668-QPYBK    Male              0      No         No       2          Yes   \n",
       "3  7795-CFOCW    Male              0      No         No      45           No   \n",
       "4  9237-HQITU  Female              0      No         No       2          Yes   \n",
       "\n",
       "  MultipleLines InternetService OnlineSecurity  ... DeviceProtection  \\\n",
       "0            No             DSL             No  ...               No   \n",
       "1            No             DSL            Yes  ...              Yes   \n",
       "2            No             DSL            Yes  ...               No   \n",
       "3            No             DSL            Yes  ...              Yes   \n",
       "4            No     Fiber optic             No  ...               No   \n",
       "\n",
       "  TechSupport StreamingTV StreamingMovies  Contract PaperlessBilling  \\\n",
       "0          No          No              No   Monthly              Yes   \n",
       "1          No          No              No  One year               No   \n",
       "2          No          No              No   Monthly              Yes   \n",
       "3         Yes          No              No  One year               No   \n",
       "4          No          No              No   Monthly              Yes   \n",
       "\n",
       "               PaymentMethod MonthlyCharges  TotalCharges Churn  \n",
       "0                     Manual          29.85         29.85    No  \n",
       "1                     Manual          56.95        1889.5    No  \n",
       "2                     Manual          53.85        108.15   Yes  \n",
       "3  Bank transfer (automatic)          42.30       1840.75    No  \n",
       "4                     Manual          70.70        151.65   Yes  \n",
       "\n",
       "[5 rows x 21 columns]"
      ]
     },
     "execution_count": 3,
     "metadata": {},
     "output_type": "execute_result"
    }
   ],
   "source": [
    "df.head()"
   ]
  },
  {
   "cell_type": "code",
   "execution_count": 4,
   "id": "a11f20e1",
   "metadata": {},
   "outputs": [
    {
     "name": "stdout",
     "output_type": "stream",
     "text": [
      "<class 'pandas.core.frame.DataFrame'>\n",
      "RangeIndex: 7043 entries, 0 to 7042\n",
      "Data columns (total 21 columns):\n",
      " #   Column            Non-Null Count  Dtype  \n",
      "---  ------            --------------  -----  \n",
      " 0   customerID        7043 non-null   object \n",
      " 1   Gender            7043 non-null   object \n",
      " 2   SeniorCitizen     7043 non-null   int64  \n",
      " 3   Partner           7043 non-null   object \n",
      " 4   Dependents        7043 non-null   object \n",
      " 5   Tenure            7043 non-null   int64  \n",
      " 6   PhoneService      7043 non-null   object \n",
      " 7   MultipleLines     7043 non-null   object \n",
      " 8   InternetService   7043 non-null   object \n",
      " 9   OnlineSecurity    7043 non-null   object \n",
      " 10  OnlineBackup      7043 non-null   object \n",
      " 11  DeviceProtection  7043 non-null   object \n",
      " 12  TechSupport       7043 non-null   object \n",
      " 13  StreamingTV       7043 non-null   object \n",
      " 14  StreamingMovies   7043 non-null   object \n",
      " 15  Contract          7043 non-null   object \n",
      " 16  PaperlessBilling  7043 non-null   object \n",
      " 17  PaymentMethod     7043 non-null   object \n",
      " 18  MonthlyCharges    7043 non-null   float64\n",
      " 19  TotalCharges      7043 non-null   object \n",
      " 20  Churn             7043 non-null   object \n",
      "dtypes: float64(1), int64(2), object(18)\n",
      "memory usage: 1.1+ MB\n"
     ]
    }
   ],
   "source": [
    "df.info()"
   ]
  },
  {
   "cell_type": "code",
   "execution_count": 5,
   "id": "cbb3511b",
   "metadata": {},
   "outputs": [
    {
     "data": {
      "text/html": [
       "<div>\n",
       "<style scoped>\n",
       "    .dataframe tbody tr th:only-of-type {\n",
       "        vertical-align: middle;\n",
       "    }\n",
       "\n",
       "    .dataframe tbody tr th {\n",
       "        vertical-align: top;\n",
       "    }\n",
       "\n",
       "    .dataframe thead th {\n",
       "        text-align: right;\n",
       "    }\n",
       "</style>\n",
       "<table border=\"1\" class=\"dataframe\">\n",
       "  <thead>\n",
       "    <tr style=\"text-align: right;\">\n",
       "      <th></th>\n",
       "      <th>SeniorCitizen</th>\n",
       "      <th>Tenure</th>\n",
       "      <th>MonthlyCharges</th>\n",
       "    </tr>\n",
       "  </thead>\n",
       "  <tbody>\n",
       "    <tr>\n",
       "      <th>count</th>\n",
       "      <td>7043.000000</td>\n",
       "      <td>7043.000000</td>\n",
       "      <td>7043.000000</td>\n",
       "    </tr>\n",
       "    <tr>\n",
       "      <th>mean</th>\n",
       "      <td>0.162147</td>\n",
       "      <td>32.371149</td>\n",
       "      <td>64.761692</td>\n",
       "    </tr>\n",
       "    <tr>\n",
       "      <th>std</th>\n",
       "      <td>0.368612</td>\n",
       "      <td>24.559481</td>\n",
       "      <td>30.090047</td>\n",
       "    </tr>\n",
       "    <tr>\n",
       "      <th>min</th>\n",
       "      <td>0.000000</td>\n",
       "      <td>0.000000</td>\n",
       "      <td>18.250000</td>\n",
       "    </tr>\n",
       "    <tr>\n",
       "      <th>25%</th>\n",
       "      <td>0.000000</td>\n",
       "      <td>9.000000</td>\n",
       "      <td>35.500000</td>\n",
       "    </tr>\n",
       "    <tr>\n",
       "      <th>50%</th>\n",
       "      <td>0.000000</td>\n",
       "      <td>29.000000</td>\n",
       "      <td>70.350000</td>\n",
       "    </tr>\n",
       "    <tr>\n",
       "      <th>75%</th>\n",
       "      <td>0.000000</td>\n",
       "      <td>55.000000</td>\n",
       "      <td>89.850000</td>\n",
       "    </tr>\n",
       "    <tr>\n",
       "      <th>max</th>\n",
       "      <td>1.000000</td>\n",
       "      <td>72.000000</td>\n",
       "      <td>118.750000</td>\n",
       "    </tr>\n",
       "  </tbody>\n",
       "</table>\n",
       "</div>"
      ],
      "text/plain": [
       "       SeniorCitizen       Tenure  MonthlyCharges\n",
       "count    7043.000000  7043.000000     7043.000000\n",
       "mean        0.162147    32.371149       64.761692\n",
       "std         0.368612    24.559481       30.090047\n",
       "min         0.000000     0.000000       18.250000\n",
       "25%         0.000000     9.000000       35.500000\n",
       "50%         0.000000    29.000000       70.350000\n",
       "75%         0.000000    55.000000       89.850000\n",
       "max         1.000000    72.000000      118.750000"
      ]
     },
     "execution_count": 5,
     "metadata": {},
     "output_type": "execute_result"
    }
   ],
   "source": [
    "df.describe()"
   ]
  },
  {
   "cell_type": "code",
   "execution_count": 6,
   "id": "44f31fc5",
   "metadata": {},
   "outputs": [
    {
     "data": {
      "text/plain": [
       "customerID          0\n",
       "Gender              0\n",
       "SeniorCitizen       0\n",
       "Partner             0\n",
       "Dependents          0\n",
       "Tenure              0\n",
       "PhoneService        0\n",
       "MultipleLines       0\n",
       "InternetService     0\n",
       "OnlineSecurity      0\n",
       "OnlineBackup        0\n",
       "DeviceProtection    0\n",
       "TechSupport         0\n",
       "StreamingTV         0\n",
       "StreamingMovies     0\n",
       "Contract            0\n",
       "PaperlessBilling    0\n",
       "PaymentMethod       0\n",
       "MonthlyCharges      0\n",
       "TotalCharges        0\n",
       "Churn               0\n",
       "dtype: int64"
      ]
     },
     "execution_count": 6,
     "metadata": {},
     "output_type": "execute_result"
    }
   ],
   "source": [
    "df.isna().sum()"
   ]
  },
  {
   "cell_type": "code",
   "execution_count": 7,
   "metadata": {},
   "outputs": [
    {
     "data": {
      "text/plain": [
       "np.int64(0)"
      ]
     },
     "execution_count": 7,
     "metadata": {},
     "output_type": "execute_result"
    }
   ],
   "source": [
    "df.duplicated().sum()"
   ]
  },
  {
   "cell_type": "code",
   "execution_count": 8,
   "id": "a5c6460c",
   "metadata": {},
   "outputs": [
    {
     "data": {
      "text/plain": [
       "(7043, 21)"
      ]
     },
     "execution_count": 8,
     "metadata": {},
     "output_type": "execute_result"
    }
   ],
   "source": [
    "df.shape"
   ]
  },
  {
   "cell_type": "code",
   "execution_count": 9,
   "id": "11165b99",
   "metadata": {},
   "outputs": [
    {
     "data": {
      "text/plain": [
       "Index(['customerID', 'Gender', 'SeniorCitizen', 'Partner', 'Dependents',\n",
       "       'Tenure', 'PhoneService', 'MultipleLines', 'InternetService',\n",
       "       'OnlineSecurity', 'OnlineBackup', 'DeviceProtection', 'TechSupport',\n",
       "       'StreamingTV', 'StreamingMovies', 'Contract', 'PaperlessBilling',\n",
       "       'PaymentMethod', 'MonthlyCharges', 'TotalCharges', 'Churn'],\n",
       "      dtype='object')"
      ]
     },
     "execution_count": 9,
     "metadata": {},
     "output_type": "execute_result"
    }
   ],
   "source": [
    "df.columns"
   ]
  },
  {
   "cell_type": "markdown",
   "id": "78858c84",
   "metadata": {},
   "source": [
    "#### Cleansing Data"
   ]
  },
  {
   "cell_type": "code",
   "execution_count": 10,
   "id": "b6f9925b",
   "metadata": {},
   "outputs": [],
   "source": [
    "# Clean 'TotalCharges'\n",
    "df['TotalCharges'] = pd.to_numeric(df['TotalCharges'], errors='coerce')\n",
    "df['TotalCharges'] = df['TotalCharges'].fillna(df['TotalCharges'].median())\n",
    "\n",
    "# Encode target\n",
    "df['Churn'] = df['Churn'].map({'No': 0, 'Yes': 1})\n",
    "\n",
    "# Drop irrelevant ID column\n",
    "df = df.drop('customerID', axis=1)\n",
    "\n",
    "# Split features\n",
    "X = df.drop('Churn', axis=1)\n",
    "y = df['Churn']"
   ]
  },
  {
   "cell_type": "code",
   "execution_count": 11,
   "id": "685ce47f",
   "metadata": {},
   "outputs": [
    {
     "data": {
      "text/plain": [
       "Churn\n",
       "0    5174\n",
       "1    1869\n",
       "Name: count, dtype: int64"
      ]
     },
     "execution_count": 11,
     "metadata": {},
     "output_type": "execute_result"
    }
   ],
   "source": [
    "y.value_counts()"
   ]
  },
  {
   "cell_type": "markdown",
   "id": "fe3b01d4",
   "metadata": {},
   "source": [
    "#### Imbalance Handling"
   ]
  },
  {
   "cell_type": "code",
   "execution_count": 12,
   "id": "0cd00cc2",
   "metadata": {},
   "outputs": [],
   "source": [
    "# handle the imbalance data\n",
    "ros = RandomOverSampler()\n",
    "X,y = ros.fit_resample(X,y)"
   ]
  },
  {
   "cell_type": "code",
   "execution_count": 13,
   "id": "ec330177",
   "metadata": {},
   "outputs": [
    {
     "data": {
      "text/plain": [
       "Churn\n",
       "0    5174\n",
       "1    5174\n",
       "Name: count, dtype: int64"
      ]
     },
     "execution_count": 13,
     "metadata": {},
     "output_type": "execute_result"
    }
   ],
   "source": [
    "y.value_counts()"
   ]
  },
  {
   "cell_type": "markdown",
   "id": "6c308d0c",
   "metadata": {},
   "source": [
    "## **Type of Data**"
   ]
  },
  {
   "cell_type": "code",
   "execution_count": 14,
   "id": "3f8e0cc4",
   "metadata": {},
   "outputs": [],
   "source": [
    "# Identify categorical & numerical features\n",
    "categorical_features = X.select_dtypes(include=['object']).columns.tolist()\n",
    "numerical_features = X.select_dtypes(include=['int64', 'float64']).columns.tolist()\n"
   ]
  },
  {
   "cell_type": "markdown",
   "id": "b2582aa1",
   "metadata": {},
   "source": [
    "## **Preprocessing Data**"
   ]
  },
  {
   "cell_type": "code",
   "execution_count": 15,
   "id": "e94e4000",
   "metadata": {},
   "outputs": [],
   "source": [
    "# Preprocessing\n",
    "preprocessor = ColumnTransformer(transformers=[\n",
    "    ('num', StandardScaler(), numerical_features),\n",
    "    ('cat', OneHotEncoder(handle_unknown='ignore'), categorical_features)\n",
    "])"
   ]
  },
  {
   "cell_type": "markdown",
   "id": "7fe0cc20",
   "metadata": {},
   "source": [
    "## **Model**"
   ]
  },
  {
   "cell_type": "code",
   "execution_count": 16,
   "id": "a61694a4",
   "metadata": {},
   "outputs": [],
   "source": [
    "# Define models\n",
    "models = {\n",
    "    \"Logistic Regression\": LogisticRegression(max_iter=1000),\n",
    "    \"Random Forest\": RandomForestClassifier(),\n",
    "    \"Gradient Boosting\": GradientBoostingClassifier(),\n",
    "    \"XGBoost\": XGBClassifier(use_label_encoder=False, eval_metric='logloss'),\n",
    "    \"LightGBM\": LGBMClassifier(),\n",
    "    \"K-Nearest Neighbors\": KNeighborsClassifier(),\n",
    "    \"SVC\": SVC(),\n",
    "    \"MLP Classifier\": MLPClassifier(max_iter=500)\n",
    "}\n",
    "\n",
    "# Store result as the list\n",
    "results = []\n",
    "\n",
    "# Train-test split\n",
    "X_train, X_test, y_train, y_test = train_test_split(X, y, test_size=0.2, random_state=42)\n"
   ]
  },
  {
   "cell_type": "markdown",
   "id": "592e93e5",
   "metadata": {},
   "source": [
    "## **Evaluation Model without Kfold**"
   ]
  },
  {
   "cell_type": "code",
   "execution_count": 17,
   "id": "452a652f",
   "metadata": {},
   "outputs": [
    {
     "name": "stdout",
     "output_type": "stream",
     "text": [
      "\n",
      "🔍 Model: Logistic Regression\n",
      "🧪 CV Accuracy: 0.7652 ± 0.0146\n",
      "📊 Test Set Report:\n",
      "              precision    recall  f1-score   support\n",
      "\n",
      "           0       0.79      0.75      0.77      1021\n",
      "           1       0.77      0.81      0.79      1049\n",
      "\n",
      "    accuracy                           0.78      2070\n",
      "   macro avg       0.78      0.78      0.78      2070\n",
      "weighted avg       0.78      0.78      0.78      2070\n",
      "\n",
      "\n",
      "🔍 Model: Random Forest\n",
      "🧪 CV Accuracy: 0.8757 ± 0.0067\n",
      "📊 Test Set Report:\n",
      "              precision    recall  f1-score   support\n",
      "\n",
      "           0       0.95      0.84      0.89      1021\n",
      "           1       0.86      0.95      0.91      1049\n",
      "\n",
      "    accuracy                           0.90      2070\n",
      "   macro avg       0.90      0.90      0.90      2070\n",
      "weighted avg       0.90      0.90      0.90      2070\n",
      "\n",
      "\n",
      "🔍 Model: Gradient Boosting\n",
      "🧪 CV Accuracy: 0.7818 ± 0.0152\n",
      "📊 Test Set Report:\n",
      "              precision    recall  f1-score   support\n",
      "\n",
      "           0       0.82      0.75      0.78      1021\n",
      "           1       0.77      0.85      0.81      1049\n",
      "\n",
      "    accuracy                           0.80      2070\n",
      "   macro avg       0.80      0.80      0.80      2070\n",
      "weighted avg       0.80      0.80      0.80      2070\n",
      "\n",
      "\n",
      "🔍 Model: XGBoost\n"
     ]
    },
    {
     "name": "stderr",
     "output_type": "stream",
     "text": [
      "c:\\Users\\kmeanhor\\AppData\\Local\\anaconda3\\envs\\meanhorkea\\lib\\site-packages\\xgboost\\training.py:183: UserWarning: [15:31:05] WARNING: C:\\actions-runner\\_work\\xgboost\\xgboost\\src\\learner.cc:738: \n",
      "Parameters: { \"use_label_encoder\" } are not used.\n",
      "\n",
      "  bst.update(dtrain, iteration=i, fobj=obj)\n",
      "c:\\Users\\kmeanhor\\AppData\\Local\\anaconda3\\envs\\meanhorkea\\lib\\site-packages\\xgboost\\training.py:183: UserWarning: [15:31:06] WARNING: C:\\actions-runner\\_work\\xgboost\\xgboost\\src\\learner.cc:738: \n",
      "Parameters: { \"use_label_encoder\" } are not used.\n",
      "\n",
      "  bst.update(dtrain, iteration=i, fobj=obj)\n",
      "c:\\Users\\kmeanhor\\AppData\\Local\\anaconda3\\envs\\meanhorkea\\lib\\site-packages\\xgboost\\training.py:183: UserWarning: [15:31:06] WARNING: C:\\actions-runner\\_work\\xgboost\\xgboost\\src\\learner.cc:738: \n",
      "Parameters: { \"use_label_encoder\" } are not used.\n",
      "\n",
      "  bst.update(dtrain, iteration=i, fobj=obj)\n",
      "c:\\Users\\kmeanhor\\AppData\\Local\\anaconda3\\envs\\meanhorkea\\lib\\site-packages\\xgboost\\training.py:183: UserWarning: [15:31:07] WARNING: C:\\actions-runner\\_work\\xgboost\\xgboost\\src\\learner.cc:738: \n",
      "Parameters: { \"use_label_encoder\" } are not used.\n",
      "\n",
      "  bst.update(dtrain, iteration=i, fobj=obj)\n",
      "c:\\Users\\kmeanhor\\AppData\\Local\\anaconda3\\envs\\meanhorkea\\lib\\site-packages\\xgboost\\training.py:183: UserWarning: [15:31:07] WARNING: C:\\actions-runner\\_work\\xgboost\\xgboost\\src\\learner.cc:738: \n",
      "Parameters: { \"use_label_encoder\" } are not used.\n",
      "\n",
      "  bst.update(dtrain, iteration=i, fobj=obj)\n",
      "c:\\Users\\kmeanhor\\AppData\\Local\\anaconda3\\envs\\meanhorkea\\lib\\site-packages\\xgboost\\training.py:183: UserWarning: [15:31:07] WARNING: C:\\actions-runner\\_work\\xgboost\\xgboost\\src\\learner.cc:738: \n",
      "Parameters: { \"use_label_encoder\" } are not used.\n",
      "\n",
      "  bst.update(dtrain, iteration=i, fobj=obj)\n"
     ]
    },
    {
     "name": "stdout",
     "output_type": "stream",
     "text": [
      "🧪 CV Accuracy: 0.8449 ± 0.0122\n"
     ]
    },
    {
     "name": "stderr",
     "output_type": "stream",
     "text": [
      "c:\\Users\\kmeanhor\\AppData\\Local\\anaconda3\\envs\\meanhorkea\\lib\\site-packages\\xgboost\\training.py:183: UserWarning: [15:31:07] WARNING: C:\\actions-runner\\_work\\xgboost\\xgboost\\src\\learner.cc:738: \n",
      "Parameters: { \"use_label_encoder\" } are not used.\n",
      "\n",
      "  bst.update(dtrain, iteration=i, fobj=obj)\n"
     ]
    },
    {
     "name": "stdout",
     "output_type": "stream",
     "text": [
      "📊 Test Set Report:\n",
      "              precision    recall  f1-score   support\n",
      "\n",
      "           0       0.90      0.78      0.84      1021\n",
      "           1       0.81      0.91      0.86      1049\n",
      "\n",
      "    accuracy                           0.85      2070\n",
      "   macro avg       0.86      0.85      0.85      2070\n",
      "weighted avg       0.86      0.85      0.85      2070\n",
      "\n",
      "\n",
      "🔍 Model: LightGBM\n",
      "[LightGBM] [Info] Number of positive: 3437, number of negative: 3461\n",
      "[LightGBM] [Info] Auto-choosing row-wise multi-threading, the overhead of testing was 0.000957 seconds.\n",
      "You can set `force_row_wise=true` to remove the overhead.\n",
      "And if memory is not enough, you can set `force_col_wise=true`.\n",
      "[LightGBM] [Info] Total Bins 653\n",
      "[LightGBM] [Info] Number of data points in the train set: 6898, number of used features: 37\n",
      "[LightGBM] [Info] [binary:BoostFromScore]: pavg=0.498260 -> initscore=-0.006959\n",
      "[LightGBM] [Info] Start training from score -0.006959\n",
      "[LightGBM] [Info] Number of positive: 3437, number of negative: 3461\n",
      "[LightGBM] [Info] Auto-choosing row-wise multi-threading, the overhead of testing was 0.000450 seconds.\n",
      "You can set `force_row_wise=true` to remove the overhead.\n",
      "And if memory is not enough, you can set `force_col_wise=true`.\n",
      "[LightGBM] [Info] Total Bins 653\n",
      "[LightGBM] [Info] Number of data points in the train set: 6898, number of used features: 37\n",
      "[LightGBM] [Info] [binary:BoostFromScore]: pavg=0.498260 -> initscore=-0.006959\n",
      "[LightGBM] [Info] Start training from score -0.006959\n"
     ]
    },
    {
     "name": "stderr",
     "output_type": "stream",
     "text": [
      "c:\\Users\\kmeanhor\\AppData\\Local\\anaconda3\\envs\\meanhorkea\\lib\\site-packages\\sklearn\\utils\\validation.py:2739: UserWarning: X does not have valid feature names, but LGBMClassifier was fitted with feature names\n",
      "  warnings.warn(\n",
      "c:\\Users\\kmeanhor\\AppData\\Local\\anaconda3\\envs\\meanhorkea\\lib\\site-packages\\sklearn\\utils\\validation.py:2739: UserWarning: X does not have valid feature names, but LGBMClassifier was fitted with feature names\n",
      "  warnings.warn(\n"
     ]
    },
    {
     "name": "stdout",
     "output_type": "stream",
     "text": [
      "[LightGBM] [Info] Number of positive: 3437, number of negative: 3461\n",
      "[LightGBM] [Info] Auto-choosing row-wise multi-threading, the overhead of testing was 0.000552 seconds.\n",
      "You can set `force_row_wise=true` to remove the overhead.\n",
      "And if memory is not enough, you can set `force_col_wise=true`.\n",
      "[LightGBM] [Info] Total Bins 653\n",
      "[LightGBM] [Info] Number of data points in the train set: 6898, number of used features: 37\n",
      "[LightGBM] [Info] [binary:BoostFromScore]: pavg=0.498260 -> initscore=-0.006959\n",
      "[LightGBM] [Info] Start training from score -0.006959\n",
      "[LightGBM] [Info] Number of positive: 3438, number of negative: 3460\n",
      "[LightGBM] [Info] Auto-choosing row-wise multi-threading, the overhead of testing was 0.000579 seconds.\n",
      "You can set `force_row_wise=true` to remove the overhead.\n",
      "And if memory is not enough, you can set `force_col_wise=true`.\n",
      "[LightGBM] [Info] Total Bins 653\n",
      "[LightGBM] [Info] Number of data points in the train set: 6898, number of used features: 37\n",
      "[LightGBM] [Info] [binary:BoostFromScore]: pavg=0.498405 -> initscore=-0.006379\n",
      "[LightGBM] [Info] Start training from score -0.006379\n"
     ]
    },
    {
     "name": "stderr",
     "output_type": "stream",
     "text": [
      "c:\\Users\\kmeanhor\\AppData\\Local\\anaconda3\\envs\\meanhorkea\\lib\\site-packages\\sklearn\\utils\\validation.py:2739: UserWarning: X does not have valid feature names, but LGBMClassifier was fitted with feature names\n",
      "  warnings.warn(\n",
      "c:\\Users\\kmeanhor\\AppData\\Local\\anaconda3\\envs\\meanhorkea\\lib\\site-packages\\sklearn\\utils\\validation.py:2739: UserWarning: X does not have valid feature names, but LGBMClassifier was fitted with feature names\n",
      "  warnings.warn(\n"
     ]
    },
    {
     "name": "stdout",
     "output_type": "stream",
     "text": [
      "[LightGBM] [Info] Number of positive: 3438, number of negative: 3461\n",
      "[LightGBM] [Info] Auto-choosing row-wise multi-threading, the overhead of testing was 0.000655 seconds.\n",
      "You can set `force_row_wise=true` to remove the overhead.\n",
      "And if memory is not enough, you can set `force_col_wise=true`.\n",
      "[LightGBM] [Info] Total Bins 653\n",
      "[LightGBM] [Info] Number of data points in the train set: 6899, number of used features: 37\n",
      "[LightGBM] [Info] [binary:BoostFromScore]: pavg=0.498333 -> initscore=-0.006668\n",
      "[LightGBM] [Info] Start training from score -0.006668\n",
      "[LightGBM] [Info] Number of positive: 3438, number of negative: 3461\n",
      "[LightGBM] [Info] Auto-choosing row-wise multi-threading, the overhead of testing was 0.000536 seconds.\n",
      "You can set `force_row_wise=true` to remove the overhead.\n",
      "And if memory is not enough, you can set `force_col_wise=true`.\n",
      "[LightGBM] [Info] Total Bins 653\n",
      "[LightGBM] [Info] Number of data points in the train set: 6899, number of used features: 37\n",
      "[LightGBM] [Info] [binary:BoostFromScore]: pavg=0.498333 -> initscore=-0.006668\n",
      "[LightGBM] [Info] Start training from score -0.006668\n"
     ]
    },
    {
     "name": "stderr",
     "output_type": "stream",
     "text": [
      "c:\\Users\\kmeanhor\\AppData\\Local\\anaconda3\\envs\\meanhorkea\\lib\\site-packages\\sklearn\\utils\\validation.py:2739: UserWarning: X does not have valid feature names, but LGBMClassifier was fitted with feature names\n",
      "  warnings.warn(\n",
      "c:\\Users\\kmeanhor\\AppData\\Local\\anaconda3\\envs\\meanhorkea\\lib\\site-packages\\sklearn\\utils\\validation.py:2739: UserWarning: X does not have valid feature names, but LGBMClassifier was fitted with feature names\n",
      "  warnings.warn(\n"
     ]
    },
    {
     "name": "stdout",
     "output_type": "stream",
     "text": [
      "🧪 CV Accuracy: 0.8219 ± 0.0162\n",
      "[LightGBM] [Info] Number of positive: 4125, number of negative: 4153\n",
      "[LightGBM] [Info] Auto-choosing row-wise multi-threading, the overhead of testing was 0.000699 seconds.\n",
      "You can set `force_row_wise=true` to remove the overhead.\n",
      "And if memory is not enough, you can set `force_col_wise=true`.\n",
      "[LightGBM] [Info] Total Bins 653\n",
      "[LightGBM] [Info] Number of data points in the train set: 8278, number of used features: 37\n",
      "[LightGBM] [Info] [binary:BoostFromScore]: pavg=0.498309 -> initscore=-0.006765\n",
      "[LightGBM] [Info] Start training from score -0.006765\n",
      "📊 Test Set Report:\n",
      "              precision    recall  f1-score   support\n",
      "\n",
      "           0       0.88      0.77      0.82      1021\n",
      "           1       0.80      0.90      0.85      1049\n",
      "\n",
      "    accuracy                           0.84      2070\n",
      "   macro avg       0.84      0.84      0.84      2070\n",
      "weighted avg       0.84      0.84      0.84      2070\n",
      "\n",
      "\n",
      "🔍 Model: K-Nearest Neighbors\n"
     ]
    },
    {
     "name": "stderr",
     "output_type": "stream",
     "text": [
      "c:\\Users\\kmeanhor\\AppData\\Local\\anaconda3\\envs\\meanhorkea\\lib\\site-packages\\sklearn\\utils\\validation.py:2739: UserWarning: X does not have valid feature names, but LGBMClassifier was fitted with feature names\n",
      "  warnings.warn(\n"
     ]
    },
    {
     "name": "stdout",
     "output_type": "stream",
     "text": [
      "🧪 CV Accuracy: 0.7485 ± 0.0103\n",
      "📊 Test Set Report:\n",
      "              precision    recall  f1-score   support\n",
      "\n",
      "           0       0.83      0.71      0.77      1021\n",
      "           1       0.75      0.86      0.80      1049\n",
      "\n",
      "    accuracy                           0.79      2070\n",
      "   macro avg       0.79      0.79      0.78      2070\n",
      "weighted avg       0.79      0.79      0.79      2070\n",
      "\n",
      "\n",
      "🔍 Model: SVC\n",
      "🧪 CV Accuracy: 0.7745 ± 0.0177\n",
      "📊 Test Set Report:\n",
      "              precision    recall  f1-score   support\n",
      "\n",
      "           0       0.81      0.76      0.78      1021\n",
      "           1       0.78      0.82      0.80      1049\n",
      "\n",
      "    accuracy                           0.79      2070\n",
      "   macro avg       0.79      0.79      0.79      2070\n",
      "weighted avg       0.79      0.79      0.79      2070\n",
      "\n",
      "\n",
      "🔍 Model: MLP Classifier\n"
     ]
    },
    {
     "name": "stderr",
     "output_type": "stream",
     "text": [
      "c:\\Users\\kmeanhor\\AppData\\Local\\anaconda3\\envs\\meanhorkea\\lib\\site-packages\\sklearn\\neural_network\\_multilayer_perceptron.py:691: ConvergenceWarning: Stochastic Optimizer: Maximum iterations (500) reached and the optimization hasn't converged yet.\n",
      "  warnings.warn(\n",
      "c:\\Users\\kmeanhor\\AppData\\Local\\anaconda3\\envs\\meanhorkea\\lib\\site-packages\\sklearn\\neural_network\\_multilayer_perceptron.py:691: ConvergenceWarning: Stochastic Optimizer: Maximum iterations (500) reached and the optimization hasn't converged yet.\n",
      "  warnings.warn(\n"
     ]
    },
    {
     "name": "stdout",
     "output_type": "stream",
     "text": [
      "🧪 CV Accuracy: 0.8102 ± 0.0117\n",
      "📊 Test Set Report:\n",
      "              precision    recall  f1-score   support\n",
      "\n",
      "           0       0.86      0.78      0.82      1021\n",
      "           1       0.80      0.88      0.84      1049\n",
      "\n",
      "    accuracy                           0.83      2070\n",
      "   macro avg       0.83      0.83      0.83      2070\n",
      "weighted avg       0.83      0.83      0.83      2070\n",
      "\n"
     ]
    }
   ],
   "source": [
    "# Evaluate each model\n",
    "for name, model in models.items():\n",
    "    print(f\"\\n🔍 Model: {name}\")\n",
    "    \n",
    "    # Create Pipeline for the model\n",
    "    pipeline = Pipeline(steps=[\n",
    "        ('preprocessor', preprocessor),\n",
    "        ('classifier', model)\n",
    "    ])\n",
    "\n",
    "    \n",
    "    \n",
    "    # Cross-validation\n",
    "    scores = cross_val_score(pipeline, X_train, y_train, cv=6, scoring='accuracy')\n",
    "    print(f\"🧪 CV Accuracy: {np.mean(scores):.4f} ± {np.std(scores):.4f}\")\n",
    "    \n",
    "    # Fit and evaluate\n",
    "    pipeline.fit(X_train, y_train)\n",
    "    y_pred = pipeline.predict(X_test)\n",
    "\n",
    "    # Fit the model result to the list \n",
    "    results.append(scores)\n",
    "    print(\"📊 Test Set Report:\")\n",
    "    print(classification_report(y_test, y_pred))"
   ]
  },
  {
   "cell_type": "markdown",
   "id": "ddbc5465",
   "metadata": {},
   "source": [
    "### **Viualization**"
   ]
  },
  {
   "cell_type": "code",
   "execution_count": 18,
   "id": "9933f676",
   "metadata": {},
   "outputs": [
    {
     "name": "stderr",
     "output_type": "stream",
     "text": [
      "C:\\Users\\kmeanhor\\AppData\\Local\\Temp\\ipykernel_14636\\1120433656.py:2: MatplotlibDeprecationWarning: The 'labels' parameter of boxplot() has been renamed 'tick_labels' since Matplotlib 3.9; support for the old name will be dropped in 3.11.\n",
      "  plt.boxplot(results, labels=models.keys())\n"
     ]
    },
    {
     "data": {
      "image/png": "[encoded data removed]",
      "text/plain": [
       "<Figure size 1800x1000 with 1 Axes>"
      ]
     },
     "metadata": {},
     "output_type": "display_data"
    }
   ],
   "source": [
    "plt.figure(figsize=(18, 10))\n",
    "plt.boxplot(results, labels=models.keys())\n",
    "plt.title(\"Cross-Validation Accuracies\")\n",
    "plt.ylabel(\"Accuracy\")\n",
    "plt.show()"
   ]
  },
  {
   "cell_type": "markdown",
   "id": "cc1db20f",
   "metadata": {},
   "source": [
    "## **Evaluation Model with Kfold**"
   ]
  },
  {
   "cell_type": "code",
   "execution_count": 19,
   "id": "89a37a22",
   "metadata": {},
   "outputs": [],
   "source": [
    "result_two = []"
   ]
  },
  {
   "cell_type": "code",
   "execution_count": 20,
   "id": "702be530",
   "metadata": {},
   "outputs": [
    {
     "name": "stdout",
     "output_type": "stream",
     "text": [
      "\n",
      "🔍 Model: Logistic Regression\n",
      "🧪 CV Accuracy: 0.7649 ± 0.0040\n",
      "📊 Test Set Report:\n",
      "              precision    recall  f1-score   support\n",
      "\n",
      "           0       0.79      0.75      0.77      1021\n",
      "           1       0.77      0.81      0.79      1049\n",
      "\n",
      "    accuracy                           0.78      2070\n",
      "   macro avg       0.78      0.78      0.78      2070\n",
      "weighted avg       0.78      0.78      0.78      2070\n",
      "\n",
      "\n",
      "🔍 Model: Random Forest\n",
      "🧪 CV Accuracy: 0.8758 ± 0.0064\n",
      "📊 Test Set Report:\n",
      "              precision    recall  f1-score   support\n",
      "\n",
      "           0       0.95      0.85      0.90      1021\n",
      "           1       0.87      0.96      0.91      1049\n",
      "\n",
      "    accuracy                           0.90      2070\n",
      "   macro avg       0.91      0.90      0.90      2070\n",
      "weighted avg       0.91      0.90      0.90      2070\n",
      "\n",
      "\n",
      "🔍 Model: Gradient Boosting\n",
      "🧪 CV Accuracy: 0.7842 ± 0.0077\n",
      "📊 Test Set Report:\n",
      "              precision    recall  f1-score   support\n",
      "\n",
      "           0       0.82      0.75      0.78      1021\n",
      "           1       0.77      0.85      0.81      1049\n",
      "\n",
      "    accuracy                           0.80      2070\n",
      "   macro avg       0.80      0.80      0.80      2070\n",
      "weighted avg       0.80      0.80      0.80      2070\n",
      "\n",
      "\n",
      "🔍 Model: XGBoost\n"
     ]
    },
    {
     "name": "stderr",
     "output_type": "stream",
     "text": [
      "c:\\Users\\kmeanhor\\AppData\\Local\\anaconda3\\envs\\meanhorkea\\lib\\site-packages\\xgboost\\training.py:183: UserWarning: [15:32:50] WARNING: C:\\actions-runner\\_work\\xgboost\\xgboost\\src\\learner.cc:738: \n",
      "Parameters: { \"use_label_encoder\" } are not used.\n",
      "\n",
      "  bst.update(dtrain, iteration=i, fobj=obj)\n",
      "c:\\Users\\kmeanhor\\AppData\\Local\\anaconda3\\envs\\meanhorkea\\lib\\site-packages\\xgboost\\training.py:183: UserWarning: [15:32:50] WARNING: C:\\actions-runner\\_work\\xgboost\\xgboost\\src\\learner.cc:738: \n",
      "Parameters: { \"use_label_encoder\" } are not used.\n",
      "\n",
      "  bst.update(dtrain, iteration=i, fobj=obj)\n",
      "c:\\Users\\kmeanhor\\AppData\\Local\\anaconda3\\envs\\meanhorkea\\lib\\site-packages\\xgboost\\training.py:183: UserWarning: [15:32:51] WARNING: C:\\actions-runner\\_work\\xgboost\\xgboost\\src\\learner.cc:738: \n",
      "Parameters: { \"use_label_encoder\" } are not used.\n",
      "\n",
      "  bst.update(dtrain, iteration=i, fobj=obj)\n",
      "c:\\Users\\kmeanhor\\AppData\\Local\\anaconda3\\envs\\meanhorkea\\lib\\site-packages\\xgboost\\training.py:183: UserWarning: [15:32:51] WARNING: C:\\actions-runner\\_work\\xgboost\\xgboost\\src\\learner.cc:738: \n",
      "Parameters: { \"use_label_encoder\" } are not used.\n",
      "\n",
      "  bst.update(dtrain, iteration=i, fobj=obj)\n",
      "c:\\Users\\kmeanhor\\AppData\\Local\\anaconda3\\envs\\meanhorkea\\lib\\site-packages\\xgboost\\training.py:183: UserWarning: [15:32:51] WARNING: C:\\actions-runner\\_work\\xgboost\\xgboost\\src\\learner.cc:738: \n",
      "Parameters: { \"use_label_encoder\" } are not used.\n",
      "\n",
      "  bst.update(dtrain, iteration=i, fobj=obj)\n",
      "c:\\Users\\kmeanhor\\AppData\\Local\\anaconda3\\envs\\meanhorkea\\lib\\site-packages\\xgboost\\training.py:183: UserWarning: [15:32:51] WARNING: C:\\actions-runner\\_work\\xgboost\\xgboost\\src\\learner.cc:738: \n",
      "Parameters: { \"use_label_encoder\" } are not used.\n",
      "\n",
      "  bst.update(dtrain, iteration=i, fobj=obj)\n"
     ]
    },
    {
     "name": "stdout",
     "output_type": "stream",
     "text": [
      "🧪 CV Accuracy: 0.8420 ± 0.0035\n"
     ]
    },
    {
     "name": "stderr",
     "output_type": "stream",
     "text": [
      "c:\\Users\\kmeanhor\\AppData\\Local\\anaconda3\\envs\\meanhorkea\\lib\\site-packages\\xgboost\\training.py:183: UserWarning: [15:32:52] WARNING: C:\\actions-runner\\_work\\xgboost\\xgboost\\src\\learner.cc:738: \n",
      "Parameters: { \"use_label_encoder\" } are not used.\n",
      "\n",
      "  bst.update(dtrain, iteration=i, fobj=obj)\n"
     ]
    },
    {
     "name": "stdout",
     "output_type": "stream",
     "text": [
      "📊 Test Set Report:\n",
      "              precision    recall  f1-score   support\n",
      "\n",
      "           0       0.90      0.78      0.84      1021\n",
      "           1       0.81      0.91      0.86      1049\n",
      "\n",
      "    accuracy                           0.85      2070\n",
      "   macro avg       0.86      0.85      0.85      2070\n",
      "weighted avg       0.86      0.85      0.85      2070\n",
      "\n",
      "\n",
      "🔍 Model: LightGBM\n",
      "[LightGBM] [Info] Number of positive: 3444, number of negative: 3454\n",
      "[LightGBM] [Info] Auto-choosing row-wise multi-threading, the overhead of testing was 0.000643 seconds.\n",
      "You can set `force_row_wise=true` to remove the overhead.\n",
      "And if memory is not enough, you can set `force_col_wise=true`.\n",
      "[LightGBM] [Info] Total Bins 653\n",
      "[LightGBM] [Info] Number of data points in the train set: 6898, number of used features: 37\n",
      "[LightGBM] [Info] [binary:BoostFromScore]: pavg=0.499275 -> initscore=-0.002899\n",
      "[LightGBM] [Info] Start training from score -0.002899\n"
     ]
    },
    {
     "name": "stderr",
     "output_type": "stream",
     "text": [
      "c:\\Users\\kmeanhor\\AppData\\Local\\anaconda3\\envs\\meanhorkea\\lib\\site-packages\\sklearn\\utils\\validation.py:2739: UserWarning: X does not have valid feature names, but LGBMClassifier was fitted with feature names\n",
      "  warnings.warn(\n"
     ]
    },
    {
     "name": "stdout",
     "output_type": "stream",
     "text": [
      "[LightGBM] [Info] Number of positive: 3440, number of negative: 3458\n",
      "[LightGBM] [Info] Auto-choosing row-wise multi-threading, the overhead of testing was 0.000605 seconds.\n",
      "You can set `force_row_wise=true` to remove the overhead.\n",
      "And if memory is not enough, you can set `force_col_wise=true`.\n",
      "[LightGBM] [Info] Total Bins 653\n",
      "[LightGBM] [Info] Number of data points in the train set: 6898, number of used features: 37\n",
      "[LightGBM] [Info] [binary:BoostFromScore]: pavg=0.498695 -> initscore=-0.005219\n",
      "[LightGBM] [Info] Start training from score -0.005219\n"
     ]
    },
    {
     "name": "stderr",
     "output_type": "stream",
     "text": [
      "c:\\Users\\kmeanhor\\AppData\\Local\\anaconda3\\envs\\meanhorkea\\lib\\site-packages\\sklearn\\utils\\validation.py:2739: UserWarning: X does not have valid feature names, but LGBMClassifier was fitted with feature names\n",
      "  warnings.warn(\n",
      "c:\\Users\\kmeanhor\\AppData\\Local\\anaconda3\\envs\\meanhorkea\\lib\\site-packages\\sklearn\\utils\\validation.py:2739: UserWarning: X does not have valid feature names, but LGBMClassifier was fitted with feature names\n",
      "  warnings.warn(\n"
     ]
    },
    {
     "name": "stdout",
     "output_type": "stream",
     "text": [
      "[LightGBM] [Info] Number of positive: 3438, number of negative: 3460\n",
      "[LightGBM] [Info] Auto-choosing row-wise multi-threading, the overhead of testing was 0.000670 seconds.\n",
      "You can set `force_row_wise=true` to remove the overhead.\n",
      "And if memory is not enough, you can set `force_col_wise=true`.\n",
      "[LightGBM] [Info] Total Bins 653\n",
      "[LightGBM] [Info] Number of data points in the train set: 6898, number of used features: 37\n",
      "[LightGBM] [Info] [binary:BoostFromScore]: pavg=0.498405 -> initscore=-0.006379\n",
      "[LightGBM] [Info] Start training from score -0.006379\n",
      "[LightGBM] [Info] Number of positive: 3436, number of negative: 3462\n",
      "[LightGBM] [Info] Auto-choosing row-wise multi-threading, the overhead of testing was 0.000602 seconds.\n",
      "You can set `force_row_wise=true` to remove the overhead.\n",
      "And if memory is not enough, you can set `force_col_wise=true`.\n",
      "[LightGBM] [Info] Total Bins 653\n",
      "[LightGBM] [Info] Number of data points in the train set: 6898, number of used features: 37\n",
      "[LightGBM] [Info] [binary:BoostFromScore]: pavg=0.498115 -> initscore=-0.007538\n",
      "[LightGBM] [Info] Start training from score -0.007538\n"
     ]
    },
    {
     "name": "stderr",
     "output_type": "stream",
     "text": [
      "c:\\Users\\kmeanhor\\AppData\\Local\\anaconda3\\envs\\meanhorkea\\lib\\site-packages\\sklearn\\utils\\validation.py:2739: UserWarning: X does not have valid feature names, but LGBMClassifier was fitted with feature names\n",
      "  warnings.warn(\n",
      "c:\\Users\\kmeanhor\\AppData\\Local\\anaconda3\\envs\\meanhorkea\\lib\\site-packages\\sklearn\\utils\\validation.py:2739: UserWarning: X does not have valid feature names, but LGBMClassifier was fitted with feature names\n",
      "  warnings.warn(\n"
     ]
    },
    {
     "name": "stdout",
     "output_type": "stream",
     "text": [
      "[LightGBM] [Info] Number of positive: 3445, number of negative: 3454\n",
      "[LightGBM] [Info] Auto-choosing row-wise multi-threading, the overhead of testing was 0.000492 seconds.\n",
      "You can set `force_row_wise=true` to remove the overhead.\n",
      "And if memory is not enough, you can set `force_col_wise=true`.\n",
      "[LightGBM] [Info] Total Bins 653\n",
      "[LightGBM] [Info] Number of data points in the train set: 6899, number of used features: 37\n",
      "[LightGBM] [Info] [binary:BoostFromScore]: pavg=0.499348 -> initscore=-0.002609\n",
      "[LightGBM] [Info] Start training from score -0.002609\n",
      "[LightGBM] [Info] Number of positive: 3422, number of negative: 3477\n",
      "[LightGBM] [Info] Auto-choosing row-wise multi-threading, the overhead of testing was 0.000603 seconds.\n",
      "You can set `force_row_wise=true` to remove the overhead.\n",
      "And if memory is not enough, you can set `force_col_wise=true`.\n",
      "[LightGBM] [Info] Total Bins 653\n",
      "[LightGBM] [Info] Number of data points in the train set: 6899, number of used features: 37\n",
      "[LightGBM] [Info] [binary:BoostFromScore]: pavg=0.496014 -> initscore=-0.015945\n",
      "[LightGBM] [Info] Start training from score -0.015945\n"
     ]
    },
    {
     "name": "stderr",
     "output_type": "stream",
     "text": [
      "c:\\Users\\kmeanhor\\AppData\\Local\\anaconda3\\envs\\meanhorkea\\lib\\site-packages\\sklearn\\utils\\validation.py:2739: UserWarning: X does not have valid feature names, but LGBMClassifier was fitted with feature names\n",
      "  warnings.warn(\n",
      "c:\\Users\\kmeanhor\\AppData\\Local\\anaconda3\\envs\\meanhorkea\\lib\\site-packages\\sklearn\\utils\\validation.py:2739: UserWarning: X does not have valid feature names, but LGBMClassifier was fitted with feature names\n",
      "  warnings.warn(\n"
     ]
    },
    {
     "name": "stdout",
     "output_type": "stream",
     "text": [
      "🧪 CV Accuracy: 0.8151 ± 0.0039\n",
      "[LightGBM] [Info] Number of positive: 4125, number of negative: 4153\n",
      "[LightGBM] [Info] Auto-choosing row-wise multi-threading, the overhead of testing was 0.000717 seconds.\n",
      "You can set `force_row_wise=true` to remove the overhead.\n",
      "And if memory is not enough, you can set `force_col_wise=true`.\n",
      "[LightGBM] [Info] Total Bins 653\n",
      "[LightGBM] [Info] Number of data points in the train set: 8278, number of used features: 37\n",
      "[LightGBM] [Info] [binary:BoostFromScore]: pavg=0.498309 -> initscore=-0.006765\n",
      "[LightGBM] [Info] Start training from score -0.006765\n",
      "📊 Test Set Report:\n",
      "              precision    recall  f1-score   support\n",
      "\n",
      "           0       0.88      0.77      0.82      1021\n",
      "           1       0.80      0.90      0.85      1049\n",
      "\n",
      "    accuracy                           0.84      2070\n",
      "   macro avg       0.84      0.84      0.84      2070\n",
      "weighted avg       0.84      0.84      0.84      2070\n",
      "\n",
      "\n",
      "🔍 Model: K-Nearest Neighbors\n",
      "🧪 CV Accuracy: 0.7501 ± 0.0066\n",
      "📊 Test Set Report:\n",
      "              precision    recall  f1-score   support\n",
      "\n",
      "           0       0.83      0.71      0.77      1021\n",
      "           1       0.75      0.86      0.80      1049\n",
      "\n",
      "    accuracy                           0.79      2070\n",
      "   macro avg       0.79      0.79      0.78      2070\n",
      "weighted avg       0.79      0.79      0.79      2070\n",
      "\n",
      "\n",
      "🔍 Model: SVC\n",
      "🧪 CV Accuracy: 0.7755 ± 0.0045\n",
      "📊 Test Set Report:\n",
      "              precision    recall  f1-score   support\n",
      "\n",
      "           0       0.81      0.76      0.78      1021\n",
      "           1       0.78      0.82      0.80      1049\n",
      "\n",
      "    accuracy                           0.79      2070\n",
      "   macro avg       0.79      0.79      0.79      2070\n",
      "weighted avg       0.79      0.79      0.79      2070\n",
      "\n",
      "\n",
      "🔍 Model: MLP Classifier\n"
     ]
    },
    {
     "name": "stderr",
     "output_type": "stream",
     "text": [
      "c:\\Users\\kmeanhor\\AppData\\Local\\anaconda3\\envs\\meanhorkea\\lib\\site-packages\\sklearn\\neural_network\\_multilayer_perceptron.py:691: ConvergenceWarning: Stochastic Optimizer: Maximum iterations (500) reached and the optimization hasn't converged yet.\n",
      "  warnings.warn(\n",
      "c:\\Users\\kmeanhor\\AppData\\Local\\anaconda3\\envs\\meanhorkea\\lib\\site-packages\\sklearn\\neural_network\\_multilayer_perceptron.py:691: ConvergenceWarning: Stochastic Optimizer: Maximum iterations (500) reached and the optimization hasn't converged yet.\n",
      "  warnings.warn(\n"
     ]
    },
    {
     "name": "stdout",
     "output_type": "stream",
     "text": [
      "🧪 CV Accuracy: 0.8043 ± 0.0075\n",
      "📊 Test Set Report:\n",
      "              precision    recall  f1-score   support\n",
      "\n",
      "           0       0.85      0.79      0.82      1021\n",
      "           1       0.81      0.86      0.83      1049\n",
      "\n",
      "    accuracy                           0.83      2070\n",
      "   macro avg       0.83      0.83      0.83      2070\n",
      "weighted avg       0.83      0.83      0.83      2070\n",
      "\n"
     ]
    },
    {
     "name": "stderr",
     "output_type": "stream",
     "text": [
      "c:\\Users\\kmeanhor\\AppData\\Local\\anaconda3\\envs\\meanhorkea\\lib\\site-packages\\sklearn\\neural_network\\_multilayer_perceptron.py:691: ConvergenceWarning: Stochastic Optimizer: Maximum iterations (500) reached and the optimization hasn't converged yet.\n",
      "  warnings.warn(\n"
     ]
    }
   ],
   "source": [
    "from sklearn.model_selection import KFold\n",
    "\n",
    "# Evaluate each model\n",
    "for name, model in models.items():\n",
    "    print(f\"\\n🔍 Model: {name}\")\n",
    "    \n",
    "    # Create Pipeline for the model\n",
    "    pipeline = Pipeline(steps=[\n",
    "        ('preprocessor', preprocessor),\n",
    "        ('classifier', model)\n",
    "    ])\n",
    "\n",
    "    \n",
    "    kf = KFold(n_splits=6, random_state=42, shuffle=True)\n",
    "    # Cross-validation\n",
    "    scores = cross_val_score(pipeline, X_train, y_train, cv=kf, scoring='accuracy')\n",
    "    print(f\"🧪 CV Accuracy: {np.mean(scores):.4f} ± {np.std(scores):.4f}\")\n",
    "    \n",
    "    # Fit and evaluate\n",
    "    pipeline.fit(X_train, y_train)\n",
    "    y_pred = pipeline.predict(X_test)\n",
    "\n",
    "    # Fit the model result to the list \n",
    "    result_two.append(scores)\n",
    "    print(\"📊 Test Set Report:\")\n",
    "    print(classification_report(y_test, y_pred))"
   ]
  },
  {
   "cell_type": "markdown",
   "id": "2f36409e",
   "metadata": {},
   "source": [
    "### **Viualization**"
   ]
  },
  {
   "cell_type": "code",
   "execution_count": 21,
   "id": "e923e59e",
   "metadata": {},
   "outputs": [
    {
     "name": "stderr",
     "output_type": "stream",
     "text": [
      "C:\\Users\\kmeanhor\\AppData\\Local\\Temp\\ipykernel_14636\\4206963521.py:2: MatplotlibDeprecationWarning: The 'labels' parameter of boxplot() has been renamed 'tick_labels' since Matplotlib 3.9; support for the old name will be dropped in 3.11.\n",
      "  plt.boxplot(result_two, labels=models.keys())\n"
     ]
    },
    {
     "data": {
      "image/png": "[encoded data removed]",
      "text/plain": [
       "<Figure size 1800x1000 with 1 Axes>"
      ]
     },
     "metadata": {},
     "output_type": "display_data"
    }
   ],
   "source": [
    "plt.figure(figsize=(18, 10))\n",
    "plt.boxplot(result_two, labels=models.keys())\n",
    "plt.title(\"Cross-Validation Accuracies\")\n",
    "plt.ylabel(\"Accuracy\")\n",
    "plt.show()"
   ]
  },
  {
   "cell_type": "code",
   "execution_count": 23,
   "id": "4795fb47",
   "metadata": {},
   "outputs": [
    {
     "data": {
      "text/plain": [
       "[array([0.77028986, 0.74637681, 0.7557971 , 0.79347826, 0.76359681,\n",
       "        0.76142132]),\n",
       " array([0.88478261, 0.8673913 , 0.87318841, 0.88478261, 0.87164612,\n",
       "        0.87237128]),\n",
       " array([0.78985507, 0.75652174, 0.77463768, 0.80507246, 0.78897752,\n",
       "        0.77592458]),\n",
       " array([0.86014493, 0.82971014, 0.83115942, 0.86014493, 0.84336476,\n",
       "        0.84481508]),\n",
       " array([0.83115942, 0.81086957, 0.80144928, 0.85217391, 0.81580856,\n",
       "        0.82015954]),\n",
       " array([0.75217391, 0.73913043, 0.74492754, 0.76666667, 0.73531545,\n",
       "        0.75271936]),\n",
       " array([0.7884058 , 0.75      , 0.7557971 , 0.80144928, 0.77810007,\n",
       "        0.77302393]),\n",
       " array([0.82391304, 0.81449275, 0.80652174, 0.82101449, 0.78825236,\n",
       "        0.8071066 ])]"
      ]
     },
     "execution_count": 23,
     "metadata": {},
     "output_type": "execute_result"
    }
   ],
   "source": [
    "results"
   ]
  },
  {
   "cell_type": "code",
   "execution_count": 24,
   "id": "7d36b410",
   "metadata": {},
   "outputs": [
    {
     "data": {
      "text/plain": [
       "[array([0.75652174, 0.76594203, 0.76956522, 0.76521739, 0.7657723 ,\n",
       "        0.76649746]),\n",
       " array([0.87536232, 0.88913043, 0.86956522, 0.87536232, 0.87454677,\n",
       "        0.87092096]),\n",
       " array([0.77463768, 0.78913043, 0.79275362, 0.78333333, 0.79187817,\n",
       "        0.77374909]),\n",
       " array([0.84130435, 0.84565217, 0.83550725, 0.84057971, 0.84336476,\n",
       "        0.84554025]),\n",
       " array([0.80942029, 0.81594203, 0.8173913 , 0.81376812, 0.81218274,\n",
       "        0.82160986]),\n",
       " array([0.74202899, 0.74637681, 0.75289855, 0.7557971 , 0.75997099,\n",
       "        0.74329224]),\n",
       " array([0.77173913, 0.77463768, 0.77173913, 0.78405797, 0.77882524,\n",
       "        0.77229877]),\n",
       " array([0.79782609, 0.79565217, 0.81811594, 0.80434783, 0.80855693,\n",
       "        0.80130529])]"
      ]
     },
     "execution_count": 24,
     "metadata": {},
     "output_type": "execute_result"
    }
   ],
   "source": [
    "result_two"
   ]
  },
  {
   "cell_type": "markdown",
   "id": "d670acd5",
   "metadata": {},
   "source": [
    "## **Conclusion**"
   ]
  },
  {
   "cell_type": "markdown",
   "id": "be5536cb",
   "metadata": {},
   "source": [
    "### 📊 Model Accuracy Scores (Mean) Comparison\n",
    "\n",
    "| Model                | Without K-Fold | With K-Fold |\n",
    "|---------------------|----------------|-------------|\n",
    "| Logistic Regression | 0.765          | 0.765       |\n",
    "| Random Forest       | 0.876          | 0.875       |\n",
    "| Gradient Boosting   | 0.782          | 0.784       |\n",
    "| XGBoost             | 0.845          | 0.842       |\n",
    "| LightGBM            | 0.822          | 0.815       |\n",
    "| KNN                 | 0.749          | 0.750       |\n",
    "| SVC                 | 0.777          | 0.775       |\n",
    "| MLP Classifier      | 0.810          | 0.804       |\n",
    "\n",
    "\n",
    "\n",
    "---\n",
    "\n",
    "### 🧠 Key Observations:\n",
    "\n",
    "- **Random Forest** is consistently the top performer in both cases (~87.5% accuracy).\n",
    "- **XGBoost** and **LightGBM** also perform well, slightly under Random Forest.\n",
    "- **MLP Classifier** and **SVC** deliver solid and stable results.\n",
    "- **KNN** and **Logistic Regression** show lower performance overall.\n",
    "- The **difference between K-Fold and non-K-Fold results is minimal**, indicating that the dataset is likely well-balanced and representative, even without cross-validation.\n",
    "\n",
    "---\n",
    "\n",
    "### ✅ Conclusion:\n",
    "\n",
    "The comparison of multiple machine learning classifiers demonstrates that **Random Forest** delivers the best performance, with **XGBoost** and **LightGBM** closely following. The minimal difference between K-Fold and standard validation indicates that the dataset is robust and not highly sensitive to sampling variations. For deployment or further optimization, **Random Forest** and **XGBoost** are strong candidates due to their high accuracy and consistency across validation strategies.\n"
   ]
  }
 ],
 "metadata": {
  "kernelspec": {
   "display_name": "meanhorkea",
   "language": "python",
   "name": "python3"
  },
  "language_info": {
   "codemirror_mode": {
    "name": "ipython",
    "version": 3
   },
   "file_extension": ".py",
   "mimetype": "text/x-python",
   "name": "python",
   "nbconvert_exporter": "python",
   "pygments_lexer": "ipython3",
   "version": "3.10.16"
  }
 },
 "nbformat": 4,
 "nbformat_minor": 5
}
